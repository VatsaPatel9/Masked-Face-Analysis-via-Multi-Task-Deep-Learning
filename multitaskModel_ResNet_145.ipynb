{
  "nbformat": 4,
  "nbformat_minor": 0,
  "metadata": {
    "colab": {
      "name": "multitaskModel-ResNet-145.ipynb",
      "provenance": []
    },
    "kernelspec": {
      "name": "python3",
      "display_name": "Python 3"
    },
    "language_info": {
      "name": "python"
    }
  },
  "cells": [
    {
      "cell_type": "code",
      "metadata": {
        "id": "1xIAvAwkltNa"
      },
      "source": [
        "import matplotlib.pylab as plt\n",
        "from sklearn.metrics import classification_report\n",
        "\n",
        "from keras.models import Model\n",
        "from keras.layers import Input\n",
        "from keras.layers import Dense\n",
        "from keras.layers import Flatten\n",
        "from keras.layers import Conv2D\n",
        "from keras.layers import MaxPooling2D, GlobalMaxPooling2D\n",
        "from keras.optimizers import Adam\n",
        "\n",
        "import tensorflow as tf\n",
        "from keras import backend as K\n",
        "from keras import initializers\n",
        "\n",
        "from tensorflow.keras.models import load_model, Model\n",
        "from tensorflow.python.keras import backend as K\n",
        "from tqdm import tqdm\n",
        "from keras.callbacks import EarlyStopping\n",
        "from tensorflow.keras.callbacks import ReduceLROnPlateau\n",
        "from tensorflow.keras.callbacks import TensorBoard\n",
        "from tensorflow.keras.layers import Conv2D, Dense, MaxPooling2D, Dropout, Flatten,GlobalAveragePooling2D\n",
        "from keras.models import Sequential,Model,load_model\n",
        "import time\n",
        "\n",
        "import keras\n",
        "import numpy as np\n",
        "import random"
      ],
      "execution_count": null,
      "outputs": []
    },
    {
      "cell_type": "code",
      "metadata": {
        "id": "G5BZQyes7EJH"
      },
      "source": [
        "import os\n",
        "import re\n",
        "import cv2\n",
        "import numpy as np\n",
        "\n",
        "from multiprocessing import Process\n",
        "\n",
        "W = 50\n",
        "def load_photos_from_folders(path):\n",
        "\n",
        "  images = []\n",
        "  img = os.listdir(path)\n",
        "  counter = 0\n",
        "  for i in tqdm (range(len(img))):\n",
        "    filenames = img[counter]\n",
        "    # filename = re.split('_+' , filenames)\n",
        "\n",
        "    images.append([])\n",
        "    full_path = path+filenames\n",
        "\n",
        "    image = cv2.imread(full_path)\n",
        "    # image = cv2.cvtColor(image, cv2.COLOR_BGR2GRAY)\n",
        "    image = cv2.resize(image, (W, W)) \n",
        "    image = np.asarray(image)\n",
        "    image = image.astype('float32')\n",
        "    image /= 255.0\n",
        "    \n",
        "    images[counter].append(image)\n",
        "    counter = counter+1\n",
        "    # print(filename, \"Loaded\")\n",
        "  return images\n",
        "\n",
        "def load_Age_labels_from_folder(path): #Age\n",
        "  filenames = os.listdir(path) \n",
        "\n",
        "  category = []\n",
        "  counter = 0\n",
        "  for filename in filenames:\n",
        "\n",
        "      items = re.split('_+', filename)\n",
        "\n",
        "      category.append([])\n",
        "      age = re.split('A',items[0])\n",
        "\n",
        "      age = int(age[1])\n",
        "      if age <= 10:\n",
        "        category[counter].append(0) \n",
        "      elif age > 10 and age <= 20 :\n",
        "        category[counter].append(1)\n",
        "      elif age > 20 and age <= 40 :\n",
        "        category[counter].append(2) \n",
        "      else:\n",
        "        category[counter].append(3)\n",
        "      counter = counter+1\n",
        "  return category\n",
        "\n",
        "\n",
        "def load_Gender_labels_from_folder(path): #Gender\n",
        "  filenames = os.listdir(path)\n",
        "\n",
        "  category = []\n",
        "  counter = 0\n",
        "  for filename in filenames:\n",
        "    items = re.split('_+', filename)\n",
        "    gender = (items[1])\n",
        "    category.append([])\n",
        "    if gender.startswith(\"01\"):\n",
        "        category[counter].append(0) #male\n",
        "    else:\n",
        "      category[counter].append(1) #female\n",
        "    counter = counter+1\n",
        "  return category\n",
        "\n",
        "\n",
        "def load_Expression_labels_from_folder(path): #Expression\n",
        "  filenames = os.listdir(path)\n",
        "\n",
        "  category = []\n",
        "  counter = 0\n",
        "  for filename in filenames:\n",
        "    items = re.split('_+', filename)\n",
        "    expression = re.split(' ',items[2])\n",
        "    expression = expression[0]\n",
        "    category.append([])\n",
        "    if expression == \"01\":\n",
        "      category[counter].append(0) #happy\n",
        "    elif expression == \"02\":\n",
        "      category[counter].append(1) #nutral\n",
        "    else:\n",
        "      category[counter].append(2) #not happy\n",
        "    counter = counter+1\n",
        "  return category"
      ],
      "execution_count": null,
      "outputs": []
    },
    {
      "cell_type": "code",
      "metadata": {
        "id": "-hV71H5M7Ibe"
      },
      "source": [
        "import numpy as np\n",
        "from sklearn.preprocessing import MinMaxScaler\n",
        "from sklearn.preprocessing import MultiLabelBinarizer\n",
        "from sklearn.model_selection import train_test_split\n",
        "\n",
        "def make_x_y(images, age, gender, expression):\n",
        "\n",
        "  X = [i for i in images]\n",
        "  Y1 = [j for j in age]\n",
        "  Y2 = [k for k in gender]\n",
        "  Y3 = [k for k in expression]\n",
        "\n",
        "  mlb = MultiLabelBinarizer()\n",
        "  Y1 = mlb.fit_transform(Y1)\n",
        "  Y2= mlb.fit_transform(Y2)\n",
        "  Y3 = mlb.fit_transform(Y3)\n",
        "  # print(\"Y1\", Y1, \"Y2\",Y2, \"Y3\", Y3)\n",
        "  X, Y1, Y2, Y3 = np.array(X), np.array(Y1), np.array(Y2), np.array(Y3)\n",
        "  return X, Y1, Y2, Y3\n",
        "\n",
        "def prepare_train_test(X, Y1, Y2, Y3, W, random_state = 42):\n",
        "  X_train, X_test, Y_train, Y_test, Y_train2, Y_test2, Y_train3, Y_test3 = train_test_split(X, Y1, Y2, Y3, random_state = random_state)\n",
        "    \n",
        "  X_train, X_test, Y_train, Y_test, Y_train2, Y_test2, Y_train3, Y_test3 = np.array(X_train), np.array(X_test), np.array(Y_train), np.array(Y_test), np.array(Y_train2), np.array(Y_test2), np.array(Y_train3), np.array(Y_test3)\n",
        "\n",
        "  X_train = X_train.reshape(X_train.shape[0], W, W, 3)\n",
        "  X_test = X_test.reshape(X_test.shape[0], W, W, 3)\n",
        "\n",
        "  return X_train, X_test, Y_train, Y_test, Y_train2, Y_test2, Y_train3, Y_test3"
      ],
      "execution_count": null,
      "outputs": []
    },
    {
      "cell_type": "code",
      "metadata": {
        "id": "97gK632Wl66H"
      },
      "source": [
        "random.seed(42)\n",
        "np.random.seed(42)\n",
        "tf.random.set_seed(42)\n",
        "my_init = initializers.glorot_uniform(seed=42)"
      ],
      "execution_count": null,
      "outputs": []
    },
    {
      "cell_type": "code",
      "metadata": {
        "id": "Qq45GhA1l8zv"
      },
      "source": [
        "session_conf = tf.compat.v1.ConfigProto(intra_op_parallelism_threads=1,\n",
        "                              inter_op_parallelism_threads=1)\n",
        "sess = tf.compat.v1.Session(graph=tf.compat.v1.get_default_graph(), config=session_conf)\n",
        "K.set_session(sess)"
      ],
      "execution_count": null,
      "outputs": []
    },
    {
      "cell_type": "code",
      "metadata": {
        "id": "QM2tDnK6mbY_"
      },
      "source": [
        "images = load_photos_from_folders(\"./Dataset/\")\n",
        "age = load_Age_labels_from_folder(\"./Dataset/\")\n",
        "gender = load_Gender_labels_from_folder(\"./Dataset/\")\n",
        "expression = load_Expression_labels_from_folder(\"./Dataset/\")"
      ],
      "execution_count": null,
      "outputs": []
    },
    {
      "cell_type": "code",
      "metadata": {
        "id": "DLgnwSJwn-ej"
      },
      "source": [
        "X, Y1, Y2, Y3 = make_x_y(images, age, gender, expression)"
      ],
      "execution_count": null,
      "outputs": []
    },
    {
      "cell_type": "code",
      "metadata": {
        "id": "_JoCFImtpMnJ"
      },
      "source": [
        "X_train, X_test, Y_train, Y_test, Y_train2, Y_test2, Y_train3, Y_test3 = prepare_train_test(X, Y1, Y2, Y3, W)"
      ],
      "execution_count": null,
      "outputs": []
    },
    {
      "cell_type": "code",
      "metadata": {
        "id": "vow0tXogpPSq"
      },
      "source": [
        "input_shape = (W, W, 3)"
      ],
      "execution_count": null,
      "outputs": []
    },
    {
      "cell_type": "code",
      "source": [
        ""
      ],
      "metadata": {
        "id": "dR3mLGQPbc3g"
      },
      "execution_count": null,
      "outputs": []
    },
    {
      "cell_type": "markdown",
      "metadata": {
        "id": "URyyt8OlbdJi"
      },
      "source": [
        "**MULTITASKING**"
      ]
    },
    {
      "cell_type": "code",
      "metadata": {
        "id": "3bynPpZ9bdJj"
      },
      "source": [
        "ResNet_model = tf.keras.applications.ResNet152V2(weights='imagenet', include_top=False, input_shape= input_shape)"
      ],
      "execution_count": null,
      "outputs": []
    },
    {
      "cell_type": "code",
      "metadata": {
        "id": "_L4sPSB1bdJk"
      },
      "source": [
        "x = ResNet_model.output\n",
        "\n",
        "# Adding a Global Average Pooling layer\n",
        "x = GlobalAveragePooling2D()(x)\n",
        " \n",
        "# Adding a fully connected layer having 1024 neurons\n",
        "x = Dense(1024, activation='relu')(x)\n",
        " \n",
        "\n",
        "predictions = Dense(Y_train.shape[1], activation='softmax', name = 'age')(x)\n",
        "predictions2 = Dense(Y_train2.shape[1], activation='sigmoid',name = 'gender')(x)\n",
        "predictions3 = Dense(Y_train3.shape[1], activation='softmax', name = 'expression')(x)\n",
        "# # Model to be trained\n",
        "model = Model(inputs=ResNet_model.input, outputs=[predictions,predictions2,predictions3])\n",
        "\n",
        "for layer in ResNet_model.layers[137:]:\n",
        "    layer.trainable = True\n",
        "for layer in ResNet_model.layers[0:137]:\n",
        "    layer.trainable = False\n",
        " \n",
        "\n",
        "model.summary()"
      ],
      "execution_count": null,
      "outputs": []
    },
    {
      "cell_type": "code",
      "metadata": {
        "id": "kB1_whhUbdJl"
      },
      "source": [
        "NAME = 'A-G-E'\n",
        "tensorboard = TensorBoard(log_dir=\"logs/{}\".format(NAME))\n",
        "\n",
        "earlystop = EarlyStopping (monitor='val_loss', mode='min', verbose=1, patience=10)\n",
        "callbacks = [tensorboard,earlystop]"
      ],
      "execution_count": null,
      "outputs": []
    },
    {
      "cell_type": "code",
      "metadata": {
        "id": "b-l3xWXRbdJm"
      },
      "source": [
        "model.compile(loss=['categorical_crossentropy', 'binary_crossentropy', 'mse'],\n",
        "              optimizer=Adam(clipnorm = 1.), metrics = {'age': 'accuracy', 'gender': 'accuracy', 'expression' : 'accuracy'}, loss_weights = [1, 1e-1, 1e-1])"
      ],
      "execution_count": null,
      "outputs": []
    },
    {
      "cell_type": "code",
      "metadata": {
        "id": "k5XGs9VnbdJm"
      },
      "source": [
        "model.fit(X_train, [Y_train, Y_train2, Y_train3],\n",
        "          validation_data = (X_test, [Y_test, Y_test2, Y_test3]), callbacks=[callbacks],\n",
        "          batch_size = 64,\n",
        "          epochs = 80,\n",
        "          verbose = True,\n",
        "          shuffle = False)"
      ],
      "execution_count": null,
      "outputs": []
    },
    {
      "cell_type": "code",
      "metadata": {
        "id": "bqiW5BtTbdJn"
      },
      "source": [
        "%load_ext tensorboard\n",
        "%tensorboard --logdir logs"
      ],
      "execution_count": null,
      "outputs": []
    },
    {
      "cell_type": "code",
      "metadata": {
        "id": "vNEbQrwWbdJo"
      },
      "source": [
        "# model.save(\"multitask-resNet-145.h5\")"
      ],
      "execution_count": null,
      "outputs": []
    },
    {
      "cell_type": "code",
      "metadata": {
        "id": "KQxMhBBMbdJo"
      },
      "source": [
        "pred = model.predict(X_test)[0]\n",
        "y_pred = [np.argmax(p) for p in pred]\n",
        "y_true = [np.argmax(p) for p in Y_test] #age\n",
        "\n",
        "print(classification_report(y_true, y_pred))"
      ],
      "execution_count": null,
      "outputs": []
    },
    {
      "cell_type": "code",
      "metadata": {
        "id": "QGm97yg2bdJp"
      },
      "source": [
        "pred = model.predict(X_test)[0]\n",
        "y_pred = [np.argmax(p) for p in pred]\n",
        "y_true = [np.argmax(p) for p in Y_test2] #gender\n",
        "\n",
        "print(classification_report(y_true, y_pred))"
      ],
      "execution_count": null,
      "outputs": []
    },
    {
      "cell_type": "code",
      "metadata": {
        "id": "8uhqB8lobdJq"
      },
      "source": [
        "pred = model.predict(X_test)[0]\n",
        "y_pred = [np.argmax(p) for p in pred]\n",
        "y_true = [np.argmax(p) for p in Y_test3] #expression\n",
        "\n",
        "print(classification_report(y_true, y_pred))"
      ],
      "execution_count": null,
      "outputs": []
    }
  ]
}